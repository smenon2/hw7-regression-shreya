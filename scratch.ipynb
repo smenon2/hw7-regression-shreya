{
 "cells": [
  {
   "cell_type": "code",
   "execution_count": 1,
   "id": "02830a83-3ab3-4789-810b-f9b4e58bd477",
   "metadata": {},
   "outputs": [],
   "source": [
    "%load_ext autoreload\n",
    "%autoreload 2"
   ]
  },
  {
   "cell_type": "code",
   "execution_count": 11,
   "id": "974ab84d-62f5-4c3e-81ba-cb0e4e017ce7",
   "metadata": {},
   "outputs": [],
   "source": [
    "from regression import *\n",
    "import pathlib\n",
    "from sklearn.preprocessing import StandardScaler\n",
    "import numpy as np"
   ]
  },
  {
   "cell_type": "code",
   "execution_count": 3,
   "id": "972c2698-9238-49be-9262-020a85f44ba0",
   "metadata": {},
   "outputs": [
    {
     "ename": "TypeError",
     "evalue": "LogisticRegressor.sigmoid() missing 1 required positional argument: 'z'",
     "output_type": "error",
     "traceback": [
      "\u001b[0;31m---------------------------------------------------------------------------\u001b[0m",
      "\u001b[0;31mTypeError\u001b[0m                                 Traceback (most recent call last)",
      "Cell \u001b[0;32mIn[3], line 1\u001b[0m\n\u001b[0;32m----> 1\u001b[0m \u001b[43mLogisticRegressor\u001b[49m\u001b[38;5;241;43m.\u001b[39;49m\u001b[43msigmoid\u001b[49m\u001b[43m(\u001b[49m\u001b[43m)\u001b[49m\n",
      "\u001b[0;31mTypeError\u001b[0m: LogisticRegressor.sigmoid() missing 1 required positional argument: 'z'"
     ]
    }
   ],
   "source": []
  },
  {
   "cell_type": "code",
   "execution_count": 6,
   "id": "60e1dea1-014c-47d2-b2e2-dde3bd590c70",
   "metadata": {},
   "outputs": [],
   "source": [
    "X_train, X_val, y_train, y_val = utils.loadDataset(\n",
    "        features=[\n",
    "            'Penicillin V Potassium 500 MG',\n",
    "            'Computed tomography of chest and abdomen',\n",
    "            'Plain chest X-ray (procedure)',\n",
    "            'Low Density Lipoprotein Cholesterol',\n",
    "            'Creatinine',\n",
    "            'AGE_DIAGNOSIS'\n",
    "        ],\n",
    "        split_percent=0.8,\n",
    "        split_seed=42\n",
    "    )\n",
    "\n",
    "    # Scale the data, since values vary across feature. Note that we\n",
    "    # fit on the training data and use the same scaler for X_val.\n",
    "sc = StandardScaler()\n",
    "X_train = sc.fit_transform(X_train)\n",
    "X_val = sc.transform(X_val)"
   ]
  },
  {
   "cell_type": "code",
   "execution_count": 20,
   "id": "2ac3b7f6-b405-40b5-8f6b-08e5a31562a6",
   "metadata": {},
   "outputs": [
    {
     "data": {
      "text/plain": [
       "array([0.71142906, 0.33110202, 0.10039875, ..., 0.15243358, 0.92437913,\n",
       "       0.67574119])"
      ]
     },
     "execution_count": 20,
     "metadata": {},
     "output_type": "execute_result"
    }
   ],
   "source": [
    "LogisticRegressor.sigmoid(np.dot(X_train, W))"
   ]
  },
  {
   "cell_type": "code",
   "execution_count": 12,
   "id": "b9b1ab3c-9197-4dfb-8910-63458df00127",
   "metadata": {},
   "outputs": [],
   "source": [
    "num_feats=6\n",
    "W = np.random.randn(num_feats + 1).flatten()"
   ]
  },
  {
   "cell_type": "code",
   "execution_count": 72,
   "id": "2bf06715-1332-4db1-848f-e61879f94d6b",
   "metadata": {},
   "outputs": [],
   "source": []
  },
  {
   "cell_type": "code",
   "execution_count": 100,
   "id": "54bc4fbe-9e9c-41ba-92e7-75311c3c635c",
   "metadata": {},
   "outputs": [],
   "source": [
    "X_train, X_val, y_train, y_val = utils.loadDataset(\n",
    "features=[\n",
    "\t\t\t'Penicillin V Potassium 500 MG',\n",
    "\t\t\t'Computed tomography of chest and abdomen',\n",
    "\t\t\t'Plain chest X-ray (procedure)',\n",
    "\t\t\t'Low Density Lipoprotein Cholesterol',\n",
    "\t\t\t'Creatinine',\n",
    "\t\t\t'AGE_DIAGNOSIS'\n",
    "\t\t],\n",
    "\t\tsplit_percent=0.8,\n",
    "\t\tsplit_seed=42\n",
    ")\n",
    "\n",
    "np.random.seed(0)\n",
    "sc = StandardScaler()\n",
    "X_train = sc.fit_transform(X_train)\n",
    "X_val = sc.transform(X_val)\n",
    "\n",
    "\t# For testing purposes, once you've added your code.\n",
    "\t# CAUTION: hyperparameters have not been optimized.\n",
    "num_feats = 6\n",
    "log_model = logreg.LogisticRegressor(num_feats=6, learning_rate=0.00001, tol=0.01, max_iter=10, batch_size=10)\n",
    "log_model.W = np.zeros(num_feats + 1).flatten()\n",
    "log_model.train_model(X_train, y_train, X_val, y_val)\n"
   ]
  },
  {
   "cell_type": "code",
   "execution_count": 102,
   "id": "9b5d1c28-a715-478b-a6d9-daaae63dc16a",
   "metadata": {},
   "outputs": [
    {
     "data": {
      "text/plain": [
       "True"
      ]
     },
     "execution_count": 102,
     "metadata": {},
     "output_type": "execute_result"
    }
   ],
   "source": [
    "np.isclose(val_loss,0.003431961882810284)\n",
    "\n"
   ]
  },
  {
   "cell_type": "code",
   "execution_count": 86,
   "id": "f17a8492-1ff3-4b88-8b6a-c5b4674dacfa",
   "metadata": {},
   "outputs": [
    {
     "ename": "ValueError",
     "evalue": "shapes (400,8) and (7,) not aligned: 8 (dim 1) != 7 (dim 0)",
     "output_type": "error",
     "traceback": [
      "\u001b[0;31m---------------------------------------------------------------------------\u001b[0m",
      "\u001b[0;31mValueError\u001b[0m                                Traceback (most recent call last)",
      "Cell \u001b[0;32mIn[86], line 1\u001b[0m\n\u001b[0;32m----> 1\u001b[0m \u001b[43mlog_model\u001b[49m\u001b[38;5;241;43m.\u001b[39;49m\u001b[43mmake_prediction\u001b[49m\u001b[43m(\u001b[49m\u001b[43mX_val\u001b[49m\u001b[43m)\u001b[49m\n",
      "File \u001b[0;32m~/Desktop/BMI203/hw7-regression-shreya/regression/logreg.py:135\u001b[0m, in \u001b[0;36mLogisticRegressor.make_prediction\u001b[0;34m(self, X)\u001b[0m\n\u001b[1;32m    123\u001b[0m \u001b[38;5;28;01mdef\u001b[39;00m \u001b[38;5;21mmake_prediction\u001b[39m(\u001b[38;5;28mself\u001b[39m, X) \u001b[38;5;241m-\u001b[39m\u001b[38;5;241m>\u001b[39m np\u001b[38;5;241m.\u001b[39marray:\n\u001b[1;32m    124\u001b[0m     \u001b[38;5;124;03m\"\"\"\u001b[39;00m\n\u001b[1;32m    125\u001b[0m \u001b[38;5;124;03m    TODO: Implement logistic function to get estimates (y_pred) for input X values. The logistic\u001b[39;00m\n\u001b[1;32m    126\u001b[0m \u001b[38;5;124;03m    function is a transformation of the linear model into an \"S-shaped\" curve that can be used\u001b[39;00m\n\u001b[0;32m   (...)\u001b[0m\n\u001b[1;32m    133\u001b[0m \u001b[38;5;124;03m        The predicted labels (y_pred) for given X.\u001b[39;00m\n\u001b[1;32m    134\u001b[0m \u001b[38;5;124;03m    \"\"\"\u001b[39;00m\n\u001b[0;32m--> 135\u001b[0m     val \u001b[38;5;241m=\u001b[39m \u001b[43mnp\u001b[49m\u001b[38;5;241;43m.\u001b[39;49m\u001b[43mdot\u001b[49m\u001b[43m(\u001b[49m\u001b[43mX\u001b[49m\u001b[43m,\u001b[49m\u001b[43m \u001b[49m\u001b[38;5;28;43mself\u001b[39;49m\u001b[38;5;241;43m.\u001b[39;49m\u001b[43mW\u001b[49m\u001b[43m)\u001b[49m\n\u001b[1;32m    136\u001b[0m     y_pred \u001b[38;5;241m=\u001b[39m \u001b[38;5;28mself\u001b[39m\u001b[38;5;241m.\u001b[39msigmoid(val)\n\u001b[1;32m    138\u001b[0m     \u001b[38;5;28;01mreturn\u001b[39;00m y_pred\n",
      "File \u001b[0;32m<__array_function__ internals>:180\u001b[0m, in \u001b[0;36mdot\u001b[0;34m(*args, **kwargs)\u001b[0m\n",
      "\u001b[0;31mValueError\u001b[0m: shapes (400,8) and (7,) not aligned: 8 (dim 1) != 7 (dim 0)"
     ]
    }
   ],
   "source": [
    "log_model.make_prediction(X_val)"
   ]
  },
  {
   "cell_type": "code",
   "execution_count": 51,
   "id": "81b42089-8398-4e18-912e-ccec0f1148ed",
   "metadata": {},
   "outputs": [],
   "source": [
    "val_loss = log_model.loss_function(y_val, log_model.make_prediction(X_val))"
   ]
  },
  {
   "cell_type": "code",
   "execution_count": 52,
   "id": "8792e7db-db12-4f3d-8637-d02783539a16",
   "metadata": {},
   "outputs": [
    {
     "data": {
      "text/plain": [
       "0.003431961882810284"
      ]
     },
     "execution_count": 52,
     "metadata": {},
     "output_type": "execute_result"
    }
   ],
   "source": [
    "val_loss"
   ]
  },
  {
   "cell_type": "code",
   "execution_count": 78,
   "id": "f35dc6bf-c276-4993-90f1-00bbc9abb18f",
   "metadata": {},
   "outputs": [],
   "source": []
  },
  {
   "cell_type": "code",
   "execution_count": 79,
   "id": "79157605-4361-4e7b-80be-a24b93295fad",
   "metadata": {},
   "outputs": [
    {
     "data": {
      "text/plain": [
       "array([-0.33097326, -0.42723908, -0.48789866, -0.        , -0.        ,\n",
       "        0.11667581,  0.04846649])"
      ]
     },
     "execution_count": 79,
     "metadata": {},
     "output_type": "execute_result"
    }
   ],
   "source": [
    "grad"
   ]
  },
  {
   "cell_type": "code",
   "execution_count": 61,
   "id": "3934ca4f-f3fc-47cf-9e9a-e2636ec8247d",
   "metadata": {},
   "outputs": [
    {
     "data": {
      "text/plain": [
       "array([-0.98300084,  0.56123626,  1.23872425, -0.13016886,  1.65527511,\n",
       "       -0.52718774, -0.65783616])"
      ]
     },
     "execution_count": 61,
     "metadata": {},
     "output_type": "execute_result"
    }
   ],
   "source": [
    "log_model.W"
   ]
  },
  {
   "cell_type": "code",
   "execution_count": 64,
   "id": "91954188-16a1-4749-94a4-2c5fead9ab20",
   "metadata": {},
   "outputs": [
    {
     "data": {
      "text/plain": [
       "array([1., 1., 0., ..., 0., 1., 0.])"
      ]
     },
     "execution_count": 64,
     "metadata": {},
     "output_type": "execute_result"
    }
   ],
   "source": [
    "(y_train)"
   ]
  },
  {
   "cell_type": "code",
   "execution_count": 71,
   "id": "af443a9f-01b3-4b4d-8fe8-051c75ca9d17",
   "metadata": {},
   "outputs": [
    {
     "data": {
      "text/plain": [
       "[0.0034659997110664973,\n",
       " 0.0034647765626905623,\n",
       " 0.0034650843770131835,\n",
       " 0.003464409889815148,\n",
       " 0.0034641219055323593,\n",
       " 0.0034638325084951336,\n",
       " 0.0034629164314393997,\n",
       " 0.003461666284869979,\n",
       " 0.0034604332792806326,\n",
       " 0.0034602473029646517]"
      ]
     },
     "execution_count": 71,
     "metadata": {},
     "output_type": "execute_result"
    }
   ],
   "source": [
    "log_model.loss_hist_val[0:10]"
   ]
  },
  {
   "cell_type": "code",
   "execution_count": 76,
   "id": "46d52d12-1f12-42ba-9b26-bb7f5c9e39ed",
   "metadata": {},
   "outputs": [
    {
     "data": {
      "text/plain": [
       "array([-0.48704934, -0.2529591 , -0.3267267 , -0.        , -0.        ,\n",
       "        0.1070174 , -0.05264797])"
      ]
     },
     "execution_count": 76,
     "metadata": {},
     "output_type": "execute_result"
    }
   ],
   "source": [
    "grad"
   ]
  },
  {
   "cell_type": "code",
   "execution_count": null,
   "id": "3c536308-848e-4b50-80d4-cc9a471c5cae",
   "metadata": {},
   "outputs": [],
   "source": []
  }
 ],
 "metadata": {
  "kernelspec": {
   "display_name": "Python [conda env:BMI203]",
   "language": "python",
   "name": "conda-env-BMI203-py"
  },
  "language_info": {
   "codemirror_mode": {
    "name": "ipython",
    "version": 3
   },
   "file_extension": ".py",
   "mimetype": "text/x-python",
   "name": "python",
   "nbconvert_exporter": "python",
   "pygments_lexer": "ipython3",
   "version": "3.10.8"
  }
 },
 "nbformat": 4,
 "nbformat_minor": 5
}
